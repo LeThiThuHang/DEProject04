{
 "cells": [
  {
   "cell_type": "code",
   "execution_count": 21,
   "id": "885c72dd",
   "metadata": {},
   "outputs": [],
   "source": [
    "import csv \n",
    "import pandas as pd\n",
    "import matplotlib.pyplot as plt"
   ]
  },
  {
   "cell_type": "code",
   "execution_count": 1,
   "id": "7fb2c43e",
   "metadata": {},
   "outputs": [],
   "source": [
    "file_path_4a = \"task4a.csv\"\n",
    "\n",
    "df = pd.read_csv(file_path_4a)\n"
   ]
  },
  {
   "cell_type": "code",
   "execution_count": 5,
   "id": "825067a7",
   "metadata": {},
   "outputs": [
    {
     "name": "stdout",
     "output_type": "stream",
     "text": [
      "First few rows:\n",
      "   Category ID          Category Name  Product Count\n",
      "0        23392                  Chiếu            889\n",
      "1        54482  Sữa rửa mặt, dưỡng da             11\n",
      "2            2                   Root         543437\n",
      "3        17184              Son dưỡng            163\n",
      "4        21120  Thiết bị lưu trữ khác            246\n",
      "\n",
      "DataFrame information:\n",
      "<class 'pandas.core.frame.DataFrame'>\n",
      "RangeIndex: 2782 entries, 0 to 2781\n",
      "Data columns (total 3 columns):\n",
      " #   Column         Non-Null Count  Dtype \n",
      "---  ------         --------------  ----- \n",
      " 0   Category ID    2782 non-null   int64 \n",
      " 1   Category Name  2782 non-null   object\n",
      " 2   Product Count  2782 non-null   int64 \n",
      "dtypes: int64(2), object(1)\n",
      "memory usage: 65.3+ KB\n",
      "None\n",
      "\n",
      "Summary statistics:\n",
      "        Category ID  Product Count\n",
      "count   2782.000000    2782.000000\n",
      "mean   19710.178648     531.246585\n",
      "std    16498.538057   10337.838599\n",
      "min        2.000000       1.000000\n",
      "25%     6122.500000      12.000000\n",
      "50%    15006.000000     102.000000\n",
      "75%    26493.500000     439.750000\n",
      "max    55948.000000  543437.000000\n"
     ]
    }
   ],
   "source": [
    "# Display the first few rows of the DataFrame\n",
    "print(\"First few rows:\")\n",
    "print(df.head())\n",
    "\n",
    "# Display DataFrame information\n",
    "print(\"\\nDataFrame information:\")\n",
    "print(df.info())\n",
    "\n",
    "# Display summary statistics of numerical columns\n",
    "print(\"\\nSummary statistics:\")\n",
    "print(df.describe())\n"
   ]
  },
  {
   "cell_type": "code",
   "execution_count": 9,
   "id": "c6ee94c6",
   "metadata": {},
   "outputs": [
    {
     "name": "stdout",
     "output_type": "stream",
     "text": [
      "Top 10 Categories based on Product Count:\n",
      "      Category ID              Category Name  Product Count\n",
      "0               2                       Root         543437\n",
      "118           914                 Thời Trang          24665\n",
      "248          1883         Nhà Cửa - Đời Sống          17972\n",
      "386          2549          Đồ Chơi - Mẹ & Bé          17003\n",
      "212          1815  Thiết Bị Số - Phụ Kiện Số          16655\n",
      "67            316            Sách tiếng Việt          16285\n",
      "148          1520         Làm Đẹp - Sức Khỏe          12673\n",
      "247          1882              Điện Gia Dụng           5067\n",
      "285          1975        Thể Thao - Dã Ngoại           4362\n",
      "930          8594     Ô Tô - Xe Máy - Xe Đạp           3978\n",
      "518          4384            Bách Hóa Online           2247\n",
      "234          1862          Dụng Cụ Văn Phòng           2109\n",
      "1961        24200        Quần áo đá banh nam           1911\n",
      "861          8322              Nhà Sách Tiki           1886\n",
      "2279        28920         Adapter Sạc Laptop           1880\n",
      "231          1858        Bút - Viết các loại           1874\n",
      "2281        28924        Pin Thay Thế Laptop           1873\n",
      "155          1583                Sữa rửa mặt           1836\n",
      "1952        24178           Giày đá bóng nam           1833\n",
      "161          1601                     Mặt nạ           1823\n"
     ]
    }
   ],
   "source": [
    "# Print the top 10 categories based on product count\n",
    "top_categories = df.groupby(['Category ID', 'Category Name'])['Product Count'].sum().reset_index()\n",
    "top_categories_sorted = top_categories.sort_values(by='Product Count', ascending=False)\n",
    "print(\"Top 10 Categories based on Product Count:\")\n",
    "print(top_categories_sorted.head(20))"
   ]
  },
  {
   "cell_type": "code",
   "execution_count": 8,
   "id": "20f74d19",
   "metadata": {},
   "outputs": [
    {
     "name": "stdout",
     "output_type": "stream",
     "text": [
      "\n",
      "Total Product Count: 1477928\n"
     ]
    }
   ],
   "source": [
    "# Sum total product count\n",
    "total_product_count = df['Product Count'].sum()\n",
    "print(\"\\nTotal Product Count:\", total_product_count)"
   ]
  },
  {
   "cell_type": "code",
   "execution_count": 11,
   "id": "28a723aa",
   "metadata": {},
   "outputs": [],
   "source": [
    "file_path_4b = \"cleaned_task4b.csv\"\n",
    "\n",
    "df_4b = pd.read_csv(file_path_4b)"
   ]
  },
  {
   "cell_type": "code",
   "execution_count": 12,
   "id": "94d12077",
   "metadata": {},
   "outputs": [
    {
     "name": "stdout",
     "output_type": "stream",
     "text": [
      "First few rows:\n",
      "   Unnamed: 0  Product ID               Origin     Value\n",
      "0           0    95043797  Xuất xứ thương hiệu  Việt Nam\n",
      "1           2   160793589  Xuất xứ thương hiệu  Nhật Bản\n",
      "2           4   205520896              Xuất xứ  Việt Nam\n",
      "3           6   225067228  Xuất xứ thương hiệu  Việt Nam\n",
      "4           8   253068278  Xuất xứ thương hiệu     China\n",
      "\n",
      "DataFrame information:\n",
      "<class 'pandas.core.frame.DataFrame'>\n",
      "RangeIndex: 1271892 entries, 0 to 1271891\n",
      "Data columns (total 4 columns):\n",
      " #   Column      Non-Null Count    Dtype \n",
      "---  ------      --------------    ----- \n",
      " 0   Unnamed: 0  1271892 non-null  int64 \n",
      " 1   Product ID  1271892 non-null  int64 \n",
      " 2   Origin      1271892 non-null  object\n",
      " 3   Value       1271892 non-null  object\n",
      "dtypes: int64(2), object(2)\n",
      "memory usage: 38.8+ MB\n",
      "None\n",
      "\n",
      "Summary statistics:\n",
      "         Unnamed: 0    Product ID\n",
      "count  1.271892e+06  1.271892e+06\n",
      "mean   1.209123e+06  1.566857e+08\n",
      "std    6.979014e+05  6.992816e+07\n",
      "min    0.000000e+00  4.096700e+04\n",
      "25%    6.043925e+05  1.079777e+08\n",
      "50%    1.208872e+06  1.664537e+08\n",
      "75%    1.813839e+06  2.061450e+08\n",
      "max    2.417861e+06  2.709456e+08\n"
     ]
    }
   ],
   "source": [
    "# Display the first few rows of the DataFrame\n",
    "print(\"First few rows:\")\n",
    "print(df_4b.head())\n",
    "\n",
    "# Display DataFrame information\n",
    "print(\"\\nDataFrame information:\")\n",
    "print(df_4b.info())\n",
    "\n",
    "# Display summary statistics of numerical columns\n",
    "print(\"\\nSummary statistics:\")\n",
    "print(df_4b.describe())"
   ]
  },
  {
   "cell_type": "code",
   "execution_count": 16,
   "id": "0813b59e",
   "metadata": {},
   "outputs": [
    {
     "name": "stdout",
     "output_type": "stream",
     "text": [
      "Number of rows containing 'Trung Quốc' or 'China': 354530\n"
     ]
    }
   ],
   "source": [
    "#filtered rows containing \"Trung Quoc\" or \"China\"\n",
    "filtered_rows = df_4b[df_4b['Value'].str.contains('Trung Quốc|China', case = False)]\n",
    "\n",
    "#calculate the number of rows that contains 'Trung Quốc' or 'China'\n",
    "num_rows_with_china = filtered_rows.shape[0]\n",
    "\n",
    "print(f\"Number of rows containing 'Trung Quốc' or 'China': {num_rows_with_china}\")\n"
   ]
  },
  {
   "cell_type": "code",
   "execution_count": 24,
   "id": "27bd71c0",
   "metadata": {},
   "outputs": [
    {
     "name": "stdout",
     "output_type": "stream",
     "text": [
      "Number of rows containing 'Viet Nam': 739438\n"
     ]
    }
   ],
   "source": [
    "#filtered rows containing \"Trung Quoc\" or \"China\"\n",
    "vn_filtered_rows = df_4b[df_4b['Value'].str.contains('Việt Nam', case = False)]\n",
    "\n",
    "#calculate the number of rows that contains 'Việt Nam'\n",
    "num_rows_with_china = vn_filtered_rows.shape[0]\n",
    "\n",
    "print(f\"Number of rows containing 'Viet Nam': {num_rows_with_china}\")"
   ]
  },
  {
   "cell_type": "code",
   "execution_count": null,
   "id": "38d92048",
   "metadata": {},
   "outputs": [],
   "source": []
  }
 ],
 "metadata": {
  "kernelspec": {
   "display_name": "Python 3 (ipykernel)",
   "language": "python",
   "name": "python3"
  },
  "language_info": {
   "codemirror_mode": {
    "name": "ipython",
    "version": 3
   },
   "file_extension": ".py",
   "mimetype": "text/x-python",
   "name": "python",
   "nbconvert_exporter": "python",
   "pygments_lexer": "ipython3",
   "version": "3.10.9"
  }
 },
 "nbformat": 4,
 "nbformat_minor": 5
}
